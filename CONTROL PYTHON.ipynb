{
 "cells": [
  {
   "cell_type": "markdown",
   "id": "e6033e1c",
   "metadata": {},
   "source": [
    "DEVOIR DE Dii-Toma Dtorg TABLISSI\n",
    "\n",
    "SOUMIS LE 28/10/2022 A 04:40\n",
    "\n",
    "\n",
    "ECERVICE 1\n",
    "\n"
   ]
  },
  {
   "cell_type": "code",
   "execution_count": 101,
   "id": "b37c4688",
   "metadata": {},
   "outputs": [
    {
     "name": "stdout",
     "output_type": "stream",
     "text": [
      "\n",
      "PROGRAMME DERETMINANT LENBRE DIVISIBLE PAR 7 ET NON MULTIPLE DE 5 COMPRIS ENTRE 2000 ET 2300.\n",
      "\n",
      "\n",
      "La liste des Nombres de 2000 A 2300 divisible par 7 mais non multiple de 5 sont :\n",
      "\n",
      "  1-) 2002\n",
      "\n",
      "  2-) 2009\n",
      "\n",
      "  3-) 2016\n",
      "\n",
      "  4-) 2023\n",
      "\n",
      "  5-) 2037\n",
      "\n",
      "  6-) 2044\n",
      "\n",
      "  7-) 2051\n",
      "\n",
      "  8-) 2058\n",
      "\n",
      "  9-) 2072\n",
      "\n",
      "  10-) 2079\n",
      "\n",
      "  11-) 2086\n",
      "\n",
      "  12-) 2093\n",
      "\n",
      "  13-) 2107\n",
      "\n",
      "  14-) 2114\n",
      "\n",
      "  15-) 2121\n",
      "\n",
      "  16-) 2128\n",
      "\n",
      "  17-) 2142\n",
      "\n",
      "  18-) 2149\n",
      "\n",
      "  19-) 2156\n",
      "\n",
      "  20-) 2163\n",
      "\n",
      "  21-) 2177\n",
      "\n",
      "  22-) 2184\n",
      "\n",
      "  23-) 2191\n",
      "\n",
      "  24-) 2198\n",
      "\n",
      "  25-) 2212\n",
      "\n",
      "  26-) 2219\n",
      "\n",
      "  27-) 2226\n",
      "\n",
      "  28-) 2233\n",
      "\n",
      "  29-) 2247\n",
      "\n",
      "  30-) 2254\n",
      "\n",
      "  31-) 2261\n",
      "\n",
      "  32-) 2268\n",
      "\n",
      "  33-) 2282\n",
      "\n",
      "  34-) 2289\n",
      "\n",
      "  35-) 2296\n",
      "\n",
      "\u001b[92m NOUS AVONS AU TOTAL 35 NOMBRE TROUVE.\n",
      "\n"
     ]
    }
   ],
   "source": [
    "print(\"\\nPROGRAMME DERETMINANT LENBRE DIVISIBLE PAR 7 ET NON MULTIPLE DE 5 COMPRIS ENTRE 2000 ET 2300.\\n\\n\") # informer l'utilisateur de l'utilité de la fonction\n",
    "nbre = 0 # c'est une variable qui servira a savoir le nombre de nombre trouve en tout\n",
    "for i in range(2000, 2300, 1) :   # parcour de 2000 a 2300 par incrementation de 1\n",
    "    if (i%7==0) :                 # verificaion si ce nombre est divisible par 7\n",
    "        if (i%5!=0) :             # verification si ce nombre n'est pas divisible par 5\n",
    "            nbre = nbre + 1       # Incrementation du nbre\n",
    "            if (nbre==1) :        # verification si nous somme au premier nombre corespondant a notre recherche\n",
    "                print(\"La liste des Nombres de 2000 A 2300 divisible par 7 mais non multiple de 5 sont :\\n\") # Phrase introductive de la liste\n",
    "            print(\"  \"+str(nbre)+\"-) \"+str(i)+\"\\n\") # affichage de chaque nombre trouvé\n",
    "print(\"\\033[92m NOUS AVONS AU TOTAL \"+ str(nbre) + \" NOMBRE TROUVE.\\n\")"
   ]
  },
  {
   "cell_type": "markdown",
   "id": "1cfeaff0",
   "metadata": {},
   "source": [
    "/-----------------------------------------------------------------/\n",
    "\n",
    "EXERCICE 2\n",
    "\n"
   ]
  },
  {
   "cell_type": "code",
   "execution_count": 105,
   "id": "e19519ff",
   "metadata": {},
   "outputs": [
    {
     "name": "stdout",
     "output_type": "stream",
     "text": [
      "\n",
      "PROGRAMME DERETMINANT LE FACTORIEL D'UN NOMBRE.\n",
      "\n",
      "\n",
      "Veuillez entrer le nombre : \n",
      "0\n",
      "\u001b[92m Factoriel de 0 est : 1\n"
     ]
    }
   ],
   "source": [
    "print(\"\\nPROGRAMME DERETMINANT LE FACTORIEL D'UN NOMBRE.\\n\\n\") # informer l'utilisateur de l'utiliTé de la fonction\n",
    "nbreFac = int(input(\"Veuillez entrer le nombre : \\n\"))         # recuperer le nombre ches l'utilisateur\n",
    "if (nbreFac == 0 or nbreFac == 1) :\n",
    "    print(\"\\033[92m Factoriel de \" + str(nbreFac) + \" est : 1\")\n",
    "else :\n",
    "    resultatFac = \"\"                                 # pour l'ecriture de l'operation\n",
    "    resultatReel = 1                                 # pour la valeur\n",
    "    for i in range(nbreFac, 0, -1) :                 # parcour de 1 a la valeur entré par décrementation de -1\n",
    "        resultatReel = resultatReel * i              # operation de calcul\n",
    "        if(resultatFac == \"\") :                      # verifier si nous somme a la premiere iteration\n",
    "            resultatFac = resultatFac + str(i)\n",
    "        else :\n",
    "            resultatFac = resultatFac +\" x \"+ str(i) # concatenatio de l'operation a afficher a LA FIN\n",
    "    # '\\033[92m' qui sera dans la ligne suite est la couleur qui sera donner a l'ecrirutre de la reponse\n",
    "    # lien de ma recherche de couleur \"https://www.delftstack.com/fr/howto/python/python-print-colored-text/\"\n",
    "    print(\"Le Factoriel de \"+str(nbreFac) + \" est : \" +resultatFac+\"\\n\\n\\033[92m DONC NOUS AVONS : Factoriel de (\"+str(nbreFac) + \") = \" +str(resultatReel))"
   ]
  },
  {
   "cell_type": "markdown",
   "id": "53eba64a",
   "metadata": {},
   "source": [
    "/----------------------------------------------------------------/\n",
    "\n",
    "EXERCICE 3\n"
   ]
  },
  {
   "cell_type": "code",
   "execution_count": 78,
   "id": "63527222",
   "metadata": {},
   "outputs": [
    {
     "name": "stdout",
     "output_type": "stream",
     "text": [
      "\n",
      "PROGRAMME DERETMINANT LE LE CARRE DE TOUT LES NOMBRE DE 1 A LA VALEUR ENTREE.\n",
      "\n",
      "\n",
      "Veuillez entrer le nombre : \n",
      "5\n",
      "\n",
      "\u001b[92mNOTRE DICTIONNAIRE EST : {1 : 1, 2 : 4, 3 : 9, 4 : 16, 5 : 25 }\n"
     ]
    }
   ],
   "source": [
    "print(\"\\nPROGRAMME DERETMINANT LE LE CARRE DE TOUT LES NOMBRE DE 1 A LA VALEUR ENTREE.\\n\\n\") # informer l'utilisateur de l'utiliTé de la fonction\n",
    "nbreFac = int(input(\"Veuillez entrer le nombre : \\n\"))       # recuperer le nombre ches l'utilisateur\n",
    "resultatFac = \"NOTRE DICTIONNAIRE EST : {\"\n",
    "for i in range(1, nbreFac+1, 1) :\n",
    "    if (i<nbreFac) :\n",
    "        resultatFac = resultatFac + str(i) +\" : \"+ str(i*i)+\", \"\n",
    "    else :\n",
    "        resultatFac = resultatFac + str(i) +\" : \"+ str(i*i) +\" }\"\n",
    "print (\"\\n\\033[92m\" + resultatFac)"
   ]
  },
  {
   "cell_type": "markdown",
   "id": "f8a7a757",
   "metadata": {},
   "source": [
    "\n",
    "/--------------------------------------------------------------------------/\n",
    "\n",
    "EXERCICE 4\n"
   ]
  },
  {
   "cell_type": "code",
   "execution_count": 89,
   "id": "cae98447",
   "metadata": {},
   "outputs": [
    {
     "name": "stdout",
     "output_type": "stream",
     "text": [
      "\n",
      "PROGRAMME PERMETTANT DE SUPPRIMER UN CARACTERE D'UN CHAINE DONNEE.\n",
      "\n",
      "\n",
      "Veuillez entrer la chaine :\n",
      "\n",
      "samson delklkl\n",
      "\n",
      "Veuillez entrer l'indice du  caractere a supprime de la chaine compris entre 1 et 14 : \n",
      "\n",
      "5\n",
      "\n",
      "\u001b[92mLa Chaine sans la valeur a la position 5 de la chaine de base 'samson delklkl' est :\n",
      "\n",
      "    samsn delklkl\n",
      "\n",
      "\n"
     ]
    }
   ],
   "source": [
    "print(\"\\nPROGRAMME PERMETTANT DE SUPPRIMER UN CARACTERE D'UN CHAINE DONNEE.\\n\\n\") # informer l'utilisateur de l'utiliTé de la fonction\n",
    "carChaine =(input(\"Veuillez entrer la chaine :\\n\\n\"))                             # recuperer la chaine de l'utilisateur\n",
    "if (carChaine != \"\") :     # verification si la valeur entre n'est pas vide\n",
    "    longChaine = len(carChaine)\n",
    "    indiceCar = int(input(\"\\nVeuillez entrer l'indice du  caractere a supprime de la chaine compris entre 1 et \"+ str(longChaine)+\" : \\n\\n\"))\n",
    "    if (indiceCar > longChaine or (indiceCar<1)) :\n",
    "        print(\"Desolé la valeur \"+str(indiceCar)+\" entrée pour la suppression ne correspond pas a L'intervalle\")\n",
    "    else :\n",
    "        nouvelChaine = \"\" # compilation des caractere sans celui a supprimer\n",
    "        for i in range(0, (longChaine), 1) :\n",
    "            if (i != (indiceCar-1)) :\n",
    "                nouvelChaine = nouvelChaine + carChaine[i]\n",
    "        print(\"\\n\\033[92mLa Chaine sans la valeur a la position \"+str(indiceCar)+\" de la chaine de base '\"+carChaine+\"' est :\\n\\n    \"+nouvelChaine + \"\\n\\n\")\n"
   ]
  },
  {
   "cell_type": "markdown",
   "id": "c4ad2218",
   "metadata": {},
   "source": [
    "/--------------------------------------------------------------------------/\n",
    "\n",
    "EXERCICE 5\n"
   ]
  },
  {
   "cell_type": "code",
   "execution_count": 106,
   "id": "b4b2b347",
   "metadata": {},
   "outputs": [
    {
     "name": "stdout",
     "output_type": "stream",
     "text": [
      "\n",
      "PROGRAMME PERMETTANT DE CONVERTIR UN TABLEAU [[0 1] [2 3] [4 5]] EN [[0, 1], [2, 3], [4, 5]] \n",
      "\n",
      "\n",
      "LE TABLEAU D'ORIGINE EST : \n",
      "\n",
      "[[0 1]\n",
      " [2 3]\n",
      " [4 5]]\n",
      "\n",
      "\u001b[92mLE TABLEAU A LISTE EST : \n",
      "\n",
      "[[0, 1], [2, 3], [4, 5]]\n"
     ]
    }
   ],
   "source": [
    "import numpy as np\n",
    "print(\"\\nPROGRAMME PERMETTANT DE CONVERTIR UN TABLEAU [[0 1] [2 3] [4 5]] EN LISTE [[0, 1], [2, 3], [4, 5]] \\n\") # informer l'utilisateur de l'utiliTé de la fonction\n",
    "tabOrg = np.array([[0, 1], [2, 3], [4, 5]])     # tableau d'origine\n",
    "print(\"\\nLE TABLEAU D'ORIGINE EST : \\n\")\n",
    "print(tabOrg)                                   # Affichage du tableau d'origine\n",
    "print(\"\\n\\033[92mLE TABLEAU A LISTE EST : \\n\")  #'\\033[92m' est la couleur vert\n",
    "print(tabOrg.tolist())                          # LA Fonction to_list est remplacé par tolist"
   ]
  },
  {
   "cell_type": "markdown",
   "id": "ca05e1cf",
   "metadata": {},
   "source": [
    "\n",
    "/--------------------------------------------------------------------------/\n",
    "\n",
    "EXERCICE 6"
   ]
  },
  {
   "cell_type": "code",
   "execution_count": 85,
   "id": "ac4c3fe0",
   "metadata": {
    "scrolled": true
   },
   "outputs": [
    {
     "name": "stdout",
     "output_type": "stream",
     "text": [
      "\n",
      "PROGRAMME PERMETTANT DE CALCULER LA COVARIANCE\n",
      "\n",
      "\n",
      "TABLEAU D'ORIGINE 1\n",
      "\n",
      "[0 1 2]\n",
      "\n",
      "TABLEAU D'ORIGINE 2\n",
      "\n",
      "[2 1 0]\n",
      "\n",
      "\u001b[92mLA MATRICE COVARIANCE DU TABLEAU 1 ET 2 EST :\n",
      "\n",
      " [[ 1. -1.]\n",
      " [-1.  1.]]\n"
     ]
    }
   ],
   "source": [
    "import numpy as np\n",
    "print(\"\\nPROGRAMME PERMETTANT DE CALCULER LA COVARIANCE\\n\") # informer l'utilisateur de l'utiliTé de la fonction\n",
    "tab1 = np.array([0, 1, 2])\n",
    "tab2 = np.array([2, 1, 0])\n",
    "  \n",
    "print(\"\\nTABLEAU D'ORIGINE 1\\n\")\n",
    "print(tab1)\n",
    "  \n",
    "print(\"\\nTABLEAU D'ORIGINE 2\\n\")\n",
    "print(tab2)\n",
    "print(\"\\n\\033[92mLA MATRICE COVARIANCE DU TABLEAU 1 ET 2 EST :\\n\\n\", np.cov(tab1, tab2)) # une autre facon d'afficher caihne et entier"
   ]
  },
  {
   "cell_type": "markdown",
   "id": "58445e03",
   "metadata": {},
   "source": [
    "\n",
    "/--------------------------------------------------------------------------/\n",
    "\n",
    "EXERCICE 7"
   ]
  },
  {
   "cell_type": "code",
   "execution_count": 7,
   "id": "e9568967",
   "metadata": {},
   "outputs": [
    {
     "name": "stdout",
     "output_type": "stream",
     "text": [
      "\n",
      "PROGRAMME PERMETTANT DE CALCULER LA RACINE CARRE D'UNE OPERATION\n",
      "\n",
      "Veuillez entrer la ou les valeurs(séparé par des virgules. EXEMPLE : 45,36,78,) :\n",
      "\n",
      "100,120,150,180\n",
      "\n",
      "\u001b[90m L'OPERATION 1 AVEC 100 :\n",
      "\n",
      "\u001b[92m Q = Racine carrée de [(2 *50*100)/30] \n",
      " Q = 18.257418583505537\n",
      "\n",
      "\u001b[90m L'OPERATION 2 AVEC 120 :\n",
      "\n",
      "\u001b[92m Q = Racine carrée de [(2 *50*120)/30] \n",
      " Q = 20\n",
      "\n",
      "\u001b[90m L'OPERATION 3 AVEC 150 :\n",
      "\n",
      "\u001b[92m Q = Racine carrée de [(2 *50*150)/30] \n",
      " Q = 22.360679774997898\n",
      "\n",
      "\u001b[90m L'OPERATION 4 AVEC 180 :\n",
      "\n",
      "\u001b[92m Q = Racine carrée de [(2 *50*180)/30] \n",
      " Q = 24.49489742783178\n"
     ]
    }
   ],
   "source": [
    "from math import *\n",
    "\n",
    "print(\"\\nPROGRAMME PERMETTANT DE CALCULER LA RACINE CARRE D'UNE OPERATION\\n\") # informer l'utilisateur de l'utiliTé de la fonction\n",
    "C = 50\n",
    "H = 30\n",
    "carChaine =(input(\"Veuillez entrer la ou les valeurs(séparé par des virgules. EXEMPLE : 45,36,78,) :\\n\\n\"))\n",
    "tabValEntree = (carChaine.split(',')) # recherche sur split 'https://python.developpez.com/faq/?page=String#strSplit'\n",
    "nbreVal = len(tabValEntree)\n",
    "for i in range(1, (nbreVal+1), 1) :\n",
    "    if ((tabValEntree[i-1]!=0) and (tabValEntree[i-1]!=\"\")) :\n",
    "        D = int(tabValEntree[i-1])\n",
    "        Q = sqrt((2*C*D)/H)\n",
    "        partiDecimal = Q - round(Q) # round() fonction d'extraction de la partie entière\n",
    "        if (partiDecimal == 0) :\n",
    "            Q = round(Q)\n",
    "        print(\"\\n\\033[90m L'OPERATION \"+ str(i) +\" AVEC \"+ str(D) +\" :\\n\\n\\033[92m Q = Racine carrée de [(2 *\"+ str(C) +\"*\" + str(D) +\")/\" + str(H) + \"] \\n Q = \" + str(Q))\n"
   ]
  }
 ],
 "metadata": {
  "kernelspec": {
   "display_name": "Python 3 (ipykernel)",
   "language": "python",
   "name": "python3"
  },
  "language_info": {
   "codemirror_mode": {
    "name": "ipython",
    "version": 3
   },
   "file_extension": ".py",
   "mimetype": "text/x-python",
   "name": "python",
   "nbconvert_exporter": "python",
   "pygments_lexer": "ipython3",
   "version": "3.9.13"
  }
 },
 "nbformat": 4,
 "nbformat_minor": 5
}
